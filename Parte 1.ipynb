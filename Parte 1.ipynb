{
 "cells": [
  {
   "cell_type": "markdown",
   "metadata": {},
   "source": [
    "# 7506 Organización de Datos \n",
    "\n",
    "## Primera Parte"
   ]
  },
  {
   "cell_type": "code",
   "execution_count": 4,
   "metadata": {},
   "outputs": [],
   "source": [
    "# imports\n",
    "import pandas as pd\n",
    "import numpy as np"
   ]
  },
  {
   "cell_type": "markdown",
   "metadata": {},
   "source": [
    "### Consulta 21"
   ]
  },
  {
   "cell_type": "markdown",
   "metadata": {},
   "source": [
    "¿Dónde está la referencia geográfica más repetida en la tierra de toda la Wikipedia\n",
    "Español?"
   ]
  },
  {
   "cell_type": "markdown",
   "metadata": {},
   "source": [
    "### Análisis exploratorios"
   ]
  },
  {
   "cell_type": "code",
   "execution_count": 6,
   "metadata": {},
   "outputs": [],
   "source": [
    "geo_tags = pd.read_csv('wikipedia_dataset_2c2021/geo_tags.csv')"
   ]
  },
  {
   "cell_type": "code",
   "execution_count": 8,
   "metadata": {},
   "outputs": [
    {
     "data": {
      "text/html": [
       "<div>\n",
       "<style scoped>\n",
       "    .dataframe tbody tr th:only-of-type {\n",
       "        vertical-align: middle;\n",
       "    }\n",
       "\n",
       "    .dataframe tbody tr th {\n",
       "        vertical-align: top;\n",
       "    }\n",
       "\n",
       "    .dataframe thead th {\n",
       "        text-align: right;\n",
       "    }\n",
       "</style>\n",
       "<table border=\"1\" class=\"dataframe\">\n",
       "  <thead>\n",
       "    <tr style=\"text-align: right;\">\n",
       "      <th></th>\n",
       "      <th>gt_id</th>\n",
       "      <th>gt_page_id</th>\n",
       "      <th>gt_primary</th>\n",
       "      <th>gt_lat</th>\n",
       "      <th>gt_lon</th>\n",
       "      <th>gt_dim</th>\n",
       "    </tr>\n",
       "  </thead>\n",
       "  <tbody>\n",
       "    <tr>\n",
       "      <th>count</th>\n",
       "      <td>5.563930e+05</td>\n",
       "      <td>5.563930e+05</td>\n",
       "      <td>556393.000000</td>\n",
       "      <td>556393.000000</td>\n",
       "      <td>556393.000000</td>\n",
       "      <td>5.563930e+05</td>\n",
       "    </tr>\n",
       "    <tr>\n",
       "      <th>mean</th>\n",
       "      <td>1.349353e+08</td>\n",
       "      <td>5.013884e+06</td>\n",
       "      <td>0.651552</td>\n",
       "      <td>31.594287</td>\n",
       "      <td>-23.254886</td>\n",
       "      <td>1.245241e+04</td>\n",
       "    </tr>\n",
       "    <tr>\n",
       "      <th>std</th>\n",
       "      <td>6.860804e+06</td>\n",
       "      <td>2.783163e+06</td>\n",
       "      <td>0.476479</td>\n",
       "      <td>25.160529</td>\n",
       "      <td>60.374770</td>\n",
       "      <td>8.459093e+04</td>\n",
       "    </tr>\n",
       "    <tr>\n",
       "      <th>min</th>\n",
       "      <td>1.580410e+05</td>\n",
       "      <td>7.000000e+00</td>\n",
       "      <td>0.000000</td>\n",
       "      <td>-90.000000</td>\n",
       "      <td>-180.000000</td>\n",
       "      <td>0.000000e+00</td>\n",
       "    </tr>\n",
       "    <tr>\n",
       "      <th>25%</th>\n",
       "      <td>1.358416e+08</td>\n",
       "      <td>2.963933e+06</td>\n",
       "      <td>0.000000</td>\n",
       "      <td>30.028056</td>\n",
       "      <td>-78.133333</td>\n",
       "      <td>1.000000e+03</td>\n",
       "    </tr>\n",
       "    <tr>\n",
       "      <th>50%</th>\n",
       "      <td>1.361459e+08</td>\n",
       "      <td>4.743908e+06</td>\n",
       "      <td>1.000000</td>\n",
       "      <td>40.435364</td>\n",
       "      <td>-4.190939</td>\n",
       "      <td>1.000000e+04</td>\n",
       "    </tr>\n",
       "    <tr>\n",
       "      <th>75%</th>\n",
       "      <td>1.364534e+08</td>\n",
       "      <td>7.614790e+06</td>\n",
       "      <td>1.000000</td>\n",
       "      <td>45.018889</td>\n",
       "      <td>6.327778</td>\n",
       "      <td>1.000000e+04</td>\n",
       "    </tr>\n",
       "    <tr>\n",
       "      <th>max</th>\n",
       "      <td>1.366722e+08</td>\n",
       "      <td>1.001079e+07</td>\n",
       "      <td>1.000000</td>\n",
       "      <td>90.000000</td>\n",
       "      <td>359.370000</td>\n",
       "      <td>1.000000e+07</td>\n",
       "    </tr>\n",
       "  </tbody>\n",
       "</table>\n",
       "</div>"
      ],
      "text/plain": [
       "              gt_id    gt_page_id     gt_primary         gt_lat  \\\n",
       "count  5.563930e+05  5.563930e+05  556393.000000  556393.000000   \n",
       "mean   1.349353e+08  5.013884e+06       0.651552      31.594287   \n",
       "std    6.860804e+06  2.783163e+06       0.476479      25.160529   \n",
       "min    1.580410e+05  7.000000e+00       0.000000     -90.000000   \n",
       "25%    1.358416e+08  2.963933e+06       0.000000      30.028056   \n",
       "50%    1.361459e+08  4.743908e+06       1.000000      40.435364   \n",
       "75%    1.364534e+08  7.614790e+06       1.000000      45.018889   \n",
       "max    1.366722e+08  1.001079e+07       1.000000      90.000000   \n",
       "\n",
       "              gt_lon        gt_dim  \n",
       "count  556393.000000  5.563930e+05  \n",
       "mean      -23.254886  1.245241e+04  \n",
       "std        60.374770  8.459093e+04  \n",
       "min      -180.000000  0.000000e+00  \n",
       "25%       -78.133333  1.000000e+03  \n",
       "50%        -4.190939  1.000000e+04  \n",
       "75%         6.327778  1.000000e+04  \n",
       "max       359.370000  1.000000e+07  "
      ]
     },
     "execution_count": 8,
     "metadata": {},
     "output_type": "execute_result"
    }
   ],
   "source": [
    "geo_tags.describe()"
   ]
  },
  {
   "cell_type": "code",
   "execution_count": 16,
   "metadata": {},
   "outputs": [
    {
     "name": "stdout",
     "output_type": "stream",
     "text": [
      "<class 'pandas.core.frame.DataFrame'>\n",
      "RangeIndex: 556393 entries, 0 to 556392\n",
      "Data columns (total 11 columns):\n",
      " #   Column      Non-Null Count   Dtype  \n",
      "---  ------      --------------   -----  \n",
      " 0   gt_id       556393 non-null  int64  \n",
      " 1   gt_page_id  556393 non-null  int64  \n",
      " 2   gt_globe    556393 non-null  object \n",
      " 3   gt_primary  556393 non-null  int64  \n",
      " 4   gt_lat      556393 non-null  float64\n",
      " 5   gt_lon      556393 non-null  float64\n",
      " 6   gt_dim      556393 non-null  int64  \n",
      " 7   gt_type     449893 non-null  object \n",
      " 8   gt_name     72557 non-null   object \n",
      " 9   gt_country  79192 non-null   object \n",
      " 10  gt_region   3088 non-null    object \n",
      "dtypes: float64(2), int64(4), object(5)\n",
      "memory usage: 46.7+ MB\n"
     ]
    }
   ],
   "source": [
    "geo_tags.info()"
   ]
  },
  {
   "cell_type": "code",
   "execution_count": 11,
   "metadata": {},
   "outputs": [
    {
     "data": {
      "text/html": [
       "<div>\n",
       "<style scoped>\n",
       "    .dataframe tbody tr th:only-of-type {\n",
       "        vertical-align: middle;\n",
       "    }\n",
       "\n",
       "    .dataframe tbody tr th {\n",
       "        vertical-align: top;\n",
       "    }\n",
       "\n",
       "    .dataframe thead th {\n",
       "        text-align: right;\n",
       "    }\n",
       "</style>\n",
       "<table border=\"1\" class=\"dataframe\">\n",
       "  <thead>\n",
       "    <tr style=\"text-align: right;\">\n",
       "      <th></th>\n",
       "      <th>gt_id</th>\n",
       "      <th>gt_page_id</th>\n",
       "      <th>gt_globe</th>\n",
       "      <th>gt_primary</th>\n",
       "      <th>gt_lat</th>\n",
       "      <th>gt_lon</th>\n",
       "      <th>gt_dim</th>\n",
       "      <th>gt_type</th>\n",
       "      <th>gt_name</th>\n",
       "      <th>gt_country</th>\n",
       "      <th>gt_region</th>\n",
       "    </tr>\n",
       "  </thead>\n",
       "  <tbody>\n",
       "    <tr>\n",
       "      <th>0</th>\n",
       "      <td>158041</td>\n",
       "      <td>4328020</td>\n",
       "      <td>earth</td>\n",
       "      <td>0</td>\n",
       "      <td>41.5075</td>\n",
       "      <td>-5.8175</td>\n",
       "      <td>1000</td>\n",
       "      <td>NaN</td>\n",
       "      <td>NaN</td>\n",
       "      <td>NaN</td>\n",
       "      <td>NaN</td>\n",
       "    </tr>\n",
       "    <tr>\n",
       "      <th>1</th>\n",
       "      <td>5844377</td>\n",
       "      <td>4670424</td>\n",
       "      <td>earth</td>\n",
       "      <td>0</td>\n",
       "      <td>13.7380</td>\n",
       "      <td>-89.2920</td>\n",
       "      <td>10000</td>\n",
       "      <td>city</td>\n",
       "      <td>NaN</td>\n",
       "      <td>NaN</td>\n",
       "      <td>NaN</td>\n",
       "    </tr>\n",
       "    <tr>\n",
       "      <th>2</th>\n",
       "      <td>5844381</td>\n",
       "      <td>4670424</td>\n",
       "      <td>earth</td>\n",
       "      <td>0</td>\n",
       "      <td>13.7020</td>\n",
       "      <td>-89.2080</td>\n",
       "      <td>10000</td>\n",
       "      <td>city</td>\n",
       "      <td>NaN</td>\n",
       "      <td>NaN</td>\n",
       "      <td>NaN</td>\n",
       "    </tr>\n",
       "    <tr>\n",
       "      <th>3</th>\n",
       "      <td>5844383</td>\n",
       "      <td>4670424</td>\n",
       "      <td>earth</td>\n",
       "      <td>0</td>\n",
       "      <td>13.4000</td>\n",
       "      <td>-89.7500</td>\n",
       "      <td>10000</td>\n",
       "      <td>city</td>\n",
       "      <td>NaN</td>\n",
       "      <td>NaN</td>\n",
       "      <td>NaN</td>\n",
       "    </tr>\n",
       "    <tr>\n",
       "      <th>4</th>\n",
       "      <td>5844388</td>\n",
       "      <td>4670424</td>\n",
       "      <td>earth</td>\n",
       "      <td>0</td>\n",
       "      <td>12.8500</td>\n",
       "      <td>-88.0000</td>\n",
       "      <td>10000</td>\n",
       "      <td>city</td>\n",
       "      <td>NaN</td>\n",
       "      <td>NaN</td>\n",
       "      <td>NaN</td>\n",
       "    </tr>\n",
       "  </tbody>\n",
       "</table>\n",
       "</div>"
      ],
      "text/plain": [
       "     gt_id  gt_page_id gt_globe  gt_primary   gt_lat   gt_lon  gt_dim gt_type  \\\n",
       "0   158041     4328020    earth           0  41.5075  -5.8175    1000     NaN   \n",
       "1  5844377     4670424    earth           0  13.7380 -89.2920   10000    city   \n",
       "2  5844381     4670424    earth           0  13.7020 -89.2080   10000    city   \n",
       "3  5844383     4670424    earth           0  13.4000 -89.7500   10000    city   \n",
       "4  5844388     4670424    earth           0  12.8500 -88.0000   10000    city   \n",
       "\n",
       "  gt_name gt_country gt_region  \n",
       "0     NaN        NaN       NaN  \n",
       "1     NaN        NaN       NaN  \n",
       "2     NaN        NaN       NaN  \n",
       "3     NaN        NaN       NaN  \n",
       "4     NaN        NaN       NaN  "
      ]
     },
     "execution_count": 11,
     "metadata": {},
     "output_type": "execute_result"
    }
   ],
   "source": [
    "geo_tags.head()"
   ]
  },
  {
   "cell_type": "code",
   "execution_count": 12,
   "metadata": {},
   "outputs": [
    {
     "data": {
      "text/plain": [
       "US    43836\n",
       "ES    24785\n",
       "FR      965\n",
       "PE      854\n",
       "BO      740\n",
       "      ...  \n",
       "GQ        1\n",
       "BN        1\n",
       "CT        1\n",
       "LI        1\n",
       "BF        1\n",
       "Name: gt_country, Length: 216, dtype: int64"
      ]
     },
     "execution_count": 12,
     "metadata": {},
     "output_type": "execute_result"
    }
   ],
   "source": [
    "geo_tags['gt_country'].value_counts()"
   ]
  },
  {
   "cell_type": "code",
   "execution_count": 13,
   "metadata": {},
   "outputs": [
    {
     "data": {
      "text/plain": [
       "-30.500000    274\n",
       "-60.000000    177\n",
       " 90.000000    172\n",
       " 45.000000    125\n",
       " 0.000000      94\n",
       "             ... \n",
       " 64.187222      1\n",
       " 28.739500      1\n",
       " 8.251351       1\n",
       " 43.420800      1\n",
       " 49.212778      1\n",
       "Name: gt_lat, Length: 313557, dtype: int64"
      ]
     },
     "execution_count": 13,
     "metadata": {},
     "output_type": "execute_result"
    }
   ],
   "source": [
    "geo_tags['gt_lat'].value_counts()"
   ]
  },
  {
   "cell_type": "code",
   "execution_count": 14,
   "metadata": {},
   "outputs": [
    {
     "data": {
      "text/plain": [
       "-64.500000     278\n",
       " 0.000000      175\n",
       " 11.000000      86\n",
       "-58.392115      85\n",
       "-59.320500      82\n",
       "              ... \n",
       "-80.379167       1\n",
       "-3.015030        1\n",
       " 141.110333      1\n",
       "-99.593231       1\n",
       " 36.738611       1\n",
       "Name: gt_lon, Length: 376712, dtype: int64"
      ]
     },
     "execution_count": 14,
     "metadata": {},
     "output_type": "execute_result"
    }
   ],
   "source": [
    "geo_tags['gt_lon'].value_counts()"
   ]
  },
  {
   "cell_type": "code",
   "execution_count": 17,
   "metadata": {},
   "outputs": [],
   "source": [
    "geo_tags['lat_and_lon'] = geo_tags['gt_lat'].astype(str) + geo_tags['gt_lon'].astype(str)"
   ]
  },
  {
   "cell_type": "code",
   "execution_count": 18,
   "metadata": {},
   "outputs": [
    {
     "data": {
      "text/plain": [
       "-30.5-64.5                                255\n",
       "-34.587588000000004-58.392115000000004     85\n",
       "-34.2949-59.3205                           82\n",
       "19.043332999999997-98.197222               72\n",
       "0.00.0                                     63\n",
       "                                         ... \n",
       "5.2166.2                                    1\n",
       "48.394.53                                   1\n",
       "46.8813888910.79611111                      1\n",
       "43.1872-8.2421                              1\n",
       "43.27343885-6.86190699                      1\n",
       "Name: lat_and_lon, Length: 506660, dtype: int64"
      ]
     },
     "execution_count": 18,
     "metadata": {},
     "output_type": "execute_result"
    }
   ],
   "source": [
    "geo_tags['lat_and_lon'].value_counts()"
   ]
  },
  {
   "cell_type": "code",
   "execution_count": 20,
   "metadata": {},
   "outputs": [
    {
     "data": {
      "text/html": [
       "<div>\n",
       "<style scoped>\n",
       "    .dataframe tbody tr th:only-of-type {\n",
       "        vertical-align: middle;\n",
       "    }\n",
       "\n",
       "    .dataframe tbody tr th {\n",
       "        vertical-align: top;\n",
       "    }\n",
       "\n",
       "    .dataframe thead th {\n",
       "        text-align: right;\n",
       "    }\n",
       "</style>\n",
       "<table border=\"1\" class=\"dataframe\">\n",
       "  <thead>\n",
       "    <tr style=\"text-align: right;\">\n",
       "      <th></th>\n",
       "      <th>gt_id</th>\n",
       "      <th>gt_page_id</th>\n",
       "      <th>gt_globe</th>\n",
       "      <th>gt_primary</th>\n",
       "      <th>gt_lat</th>\n",
       "      <th>gt_lon</th>\n",
       "      <th>gt_dim</th>\n",
       "      <th>gt_type</th>\n",
       "      <th>gt_name</th>\n",
       "      <th>gt_country</th>\n",
       "      <th>gt_region</th>\n",
       "      <th>lat_and_lon</th>\n",
       "    </tr>\n",
       "  </thead>\n",
       "  <tbody>\n",
       "    <tr>\n",
       "      <th>46875</th>\n",
       "      <td>135261965</td>\n",
       "      <td>5864596</td>\n",
       "      <td>earth</td>\n",
       "      <td>0</td>\n",
       "      <td>-30.5</td>\n",
       "      <td>-64.5</td>\n",
       "      <td>1000</td>\n",
       "      <td>NaN</td>\n",
       "      <td>NaN</td>\n",
       "      <td>NaN</td>\n",
       "      <td>NaN</td>\n",
       "      <td>-30.5-64.5</td>\n",
       "    </tr>\n",
       "    <tr>\n",
       "      <th>62831</th>\n",
       "      <td>135695923</td>\n",
       "      <td>221377</td>\n",
       "      <td>earth</td>\n",
       "      <td>0</td>\n",
       "      <td>-30.5</td>\n",
       "      <td>-64.5</td>\n",
       "      <td>1000</td>\n",
       "      <td>NaN</td>\n",
       "      <td>NaN</td>\n",
       "      <td>NaN</td>\n",
       "      <td>NaN</td>\n",
       "      <td>-30.5-64.5</td>\n",
       "    </tr>\n",
       "    <tr>\n",
       "      <th>63119</th>\n",
       "      <td>135697143</td>\n",
       "      <td>61366</td>\n",
       "      <td>earth</td>\n",
       "      <td>0</td>\n",
       "      <td>-30.5</td>\n",
       "      <td>-64.5</td>\n",
       "      <td>1000</td>\n",
       "      <td>NaN</td>\n",
       "      <td>NaN</td>\n",
       "      <td>NaN</td>\n",
       "      <td>NaN</td>\n",
       "      <td>-30.5-64.5</td>\n",
       "    </tr>\n",
       "    <tr>\n",
       "      <th>63837</th>\n",
       "      <td>135699482</td>\n",
       "      <td>82449</td>\n",
       "      <td>earth</td>\n",
       "      <td>0</td>\n",
       "      <td>-30.5</td>\n",
       "      <td>-64.5</td>\n",
       "      <td>1000</td>\n",
       "      <td>NaN</td>\n",
       "      <td>NaN</td>\n",
       "      <td>NaN</td>\n",
       "      <td>NaN</td>\n",
       "      <td>-30.5-64.5</td>\n",
       "    </tr>\n",
       "    <tr>\n",
       "      <th>66638</th>\n",
       "      <td>135705811</td>\n",
       "      <td>166149</td>\n",
       "      <td>earth</td>\n",
       "      <td>0</td>\n",
       "      <td>-30.5</td>\n",
       "      <td>-64.5</td>\n",
       "      <td>1000</td>\n",
       "      <td>NaN</td>\n",
       "      <td>NaN</td>\n",
       "      <td>NaN</td>\n",
       "      <td>NaN</td>\n",
       "      <td>-30.5-64.5</td>\n",
       "    </tr>\n",
       "    <tr>\n",
       "      <th>...</th>\n",
       "      <td>...</td>\n",
       "      <td>...</td>\n",
       "      <td>...</td>\n",
       "      <td>...</td>\n",
       "      <td>...</td>\n",
       "      <td>...</td>\n",
       "      <td>...</td>\n",
       "      <td>...</td>\n",
       "      <td>...</td>\n",
       "      <td>...</td>\n",
       "      <td>...</td>\n",
       "      <td>...</td>\n",
       "    </tr>\n",
       "    <tr>\n",
       "      <th>530737</th>\n",
       "      <td>136616913</td>\n",
       "      <td>266213</td>\n",
       "      <td>earth</td>\n",
       "      <td>0</td>\n",
       "      <td>-30.5</td>\n",
       "      <td>-64.5</td>\n",
       "      <td>1000</td>\n",
       "      <td>NaN</td>\n",
       "      <td>NaN</td>\n",
       "      <td>NaN</td>\n",
       "      <td>NaN</td>\n",
       "      <td>-30.5-64.5</td>\n",
       "    </tr>\n",
       "    <tr>\n",
       "      <th>535500</th>\n",
       "      <td>136635107</td>\n",
       "      <td>461045</td>\n",
       "      <td>earth</td>\n",
       "      <td>0</td>\n",
       "      <td>-30.5</td>\n",
       "      <td>-64.5</td>\n",
       "      <td>1000</td>\n",
       "      <td>NaN</td>\n",
       "      <td>NaN</td>\n",
       "      <td>NaN</td>\n",
       "      <td>NaN</td>\n",
       "      <td>-30.5-64.5</td>\n",
       "    </tr>\n",
       "    <tr>\n",
       "      <th>540900</th>\n",
       "      <td>136655171</td>\n",
       "      <td>68959</td>\n",
       "      <td>earth</td>\n",
       "      <td>0</td>\n",
       "      <td>-30.5</td>\n",
       "      <td>-64.5</td>\n",
       "      <td>1000</td>\n",
       "      <td>NaN</td>\n",
       "      <td>NaN</td>\n",
       "      <td>NaN</td>\n",
       "      <td>NaN</td>\n",
       "      <td>-30.5-64.5</td>\n",
       "    </tr>\n",
       "    <tr>\n",
       "      <th>556333</th>\n",
       "      <td>136672122</td>\n",
       "      <td>399580</td>\n",
       "      <td>earth</td>\n",
       "      <td>0</td>\n",
       "      <td>-30.5</td>\n",
       "      <td>-64.5</td>\n",
       "      <td>1000</td>\n",
       "      <td>NaN</td>\n",
       "      <td>NaN</td>\n",
       "      <td>NaN</td>\n",
       "      <td>NaN</td>\n",
       "      <td>-30.5-64.5</td>\n",
       "    </tr>\n",
       "    <tr>\n",
       "      <th>556363</th>\n",
       "      <td>136672153</td>\n",
       "      <td>266216</td>\n",
       "      <td>earth</td>\n",
       "      <td>0</td>\n",
       "      <td>-30.5</td>\n",
       "      <td>-64.5</td>\n",
       "      <td>1000</td>\n",
       "      <td>NaN</td>\n",
       "      <td>NaN</td>\n",
       "      <td>NaN</td>\n",
       "      <td>NaN</td>\n",
       "      <td>-30.5-64.5</td>\n",
       "    </tr>\n",
       "  </tbody>\n",
       "</table>\n",
       "<p>255 rows × 12 columns</p>\n",
       "</div>"
      ],
      "text/plain": [
       "            gt_id  gt_page_id gt_globe  gt_primary  gt_lat  gt_lon  gt_dim  \\\n",
       "46875   135261965     5864596    earth           0   -30.5   -64.5    1000   \n",
       "62831   135695923      221377    earth           0   -30.5   -64.5    1000   \n",
       "63119   135697143       61366    earth           0   -30.5   -64.5    1000   \n",
       "63837   135699482       82449    earth           0   -30.5   -64.5    1000   \n",
       "66638   135705811      166149    earth           0   -30.5   -64.5    1000   \n",
       "...           ...         ...      ...         ...     ...     ...     ...   \n",
       "530737  136616913      266213    earth           0   -30.5   -64.5    1000   \n",
       "535500  136635107      461045    earth           0   -30.5   -64.5    1000   \n",
       "540900  136655171       68959    earth           0   -30.5   -64.5    1000   \n",
       "556333  136672122      399580    earth           0   -30.5   -64.5    1000   \n",
       "556363  136672153      266216    earth           0   -30.5   -64.5    1000   \n",
       "\n",
       "       gt_type gt_name gt_country gt_region lat_and_lon  \n",
       "46875      NaN     NaN        NaN       NaN  -30.5-64.5  \n",
       "62831      NaN     NaN        NaN       NaN  -30.5-64.5  \n",
       "63119      NaN     NaN        NaN       NaN  -30.5-64.5  \n",
       "63837      NaN     NaN        NaN       NaN  -30.5-64.5  \n",
       "66638      NaN     NaN        NaN       NaN  -30.5-64.5  \n",
       "...        ...     ...        ...       ...         ...  \n",
       "530737     NaN     NaN        NaN       NaN  -30.5-64.5  \n",
       "535500     NaN     NaN        NaN       NaN  -30.5-64.5  \n",
       "540900     NaN     NaN        NaN       NaN  -30.5-64.5  \n",
       "556333     NaN     NaN        NaN       NaN  -30.5-64.5  \n",
       "556363     NaN     NaN        NaN       NaN  -30.5-64.5  \n",
       "\n",
       "[255 rows x 12 columns]"
      ]
     },
     "execution_count": 20,
     "metadata": {},
     "output_type": "execute_result"
    }
   ],
   "source": [
    "geo_tags[geo_tags['lat_and_lon']=='-30.5-64.5']"
   ]
  },
  {
   "cell_type": "markdown",
   "metadata": {},
   "source": [
    "#### Respuesta\n",
    "Latitud -30.5, longitud -64.5 \t"
   ]
  },
  {
   "cell_type": "markdown",
   "metadata": {},
   "source": [
    "### Consulta 6"
   ]
  },
  {
   "cell_type": "markdown",
   "metadata": {},
   "source": [
    "El porcentaje de contenidos que están publicados cuya última edición no tiene\n",
    "comentario para los usuarios que realizaron 1, >10 y >100 de las últimas ediciones"
   ]
  },
  {
   "cell_type": "code",
   "execution_count": null,
   "metadata": {},
   "outputs": [],
   "source": []
  },
  {
   "cell_type": "markdown",
   "metadata": {},
   "source": [
    "### Consulta 10 "
   ]
  },
  {
   "cell_type": "markdown",
   "metadata": {},
   "source": [
    "### Consulta 13"
   ]
  },
  {
   "cell_type": "markdown",
   "metadata": {},
   "source": [
    "### Consulta 18"
   ]
  },
  {
   "cell_type": "markdown",
   "metadata": {},
   "source": [
    "### Consulta 42"
   ]
  },
  {
   "cell_type": "markdown",
   "metadata": {},
   "source": [
    "### Consulta 53"
   ]
  }
 ],
 "metadata": {
  "kernelspec": {
   "display_name": "Python 3",
   "language": "python",
   "name": "python3"
  },
  "language_info": {
   "codemirror_mode": {
    "name": "ipython",
    "version": 3
   },
   "file_extension": ".py",
   "mimetype": "text/x-python",
   "name": "python",
   "nbconvert_exporter": "python",
   "pygments_lexer": "ipython3",
   "version": "3.7.6"
  }
 },
 "nbformat": 4,
 "nbformat_minor": 4
}
